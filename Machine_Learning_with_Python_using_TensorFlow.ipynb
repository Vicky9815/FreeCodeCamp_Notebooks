{
  "nbformat": 4,
  "nbformat_minor": 0,
  "metadata": {
    "colab": {
      "name": "Machine Learning with Python using TensorFlow",
      "provenance": [],
      "collapsed_sections": [],
      "toc_visible": true,
      "authorship_tag": "ABX9TyOdFN7/11ON3HabuBitAZ6+",
      "include_colab_link": true
    },
    "kernelspec": {
      "name": "python3",
      "display_name": "Python 3"
    },
    "language_info": {
      "name": "python"
    }
  },
  "cells": [
    {
      "cell_type": "markdown",
      "metadata": {
        "id": "view-in-github",
        "colab_type": "text"
      },
      "source": [
        "<a href=\"https://colab.research.google.com/github/Vicky9815/FreeCodeCamp_Notebooks/blob/main/Machine_Learning_with_Python_using_TensorFlow.ipynb\" target=\"_parent\"><img src=\"https://colab.research.google.com/assets/colab-badge.svg\" alt=\"Open In Colab\"/></a>"
      ]
    },
    {
      "cell_type": "markdown",
      "metadata": {
        "id": "HErDjs86HK4M"
      },
      "source": [
        "## Classification\n",
        "\n",
        "It is used to separate data into classes of different labels.\n",
        "\n"
      ]
    },
    {
      "cell_type": "markdown",
      "metadata": {
        "id": "hCX_7fwNJqmM"
      },
      "source": [
        "## Import and set up"
      ]
    },
    {
      "cell_type": "code",
      "metadata": {
        "id": "-GF8izFcGvHe"
      },
      "source": [
        "from __future__ import absolute_import, division, print_function, unicode_literals\n",
        "\n",
        "import tensorflow as tf\n",
        "\n",
        "import pandas as pd"
      ],
      "execution_count": 56,
      "outputs": []
    },
    {
      "cell_type": "markdown",
      "metadata": {
        "id": "KzRoyQ8HKrUL"
      },
      "source": [
        "## Dataset\n",
        "\n",
        "This specific dataset separates flowers into 3 different classes of species:\n",
        "\n",
        "\n",
        "*   Setose\n",
        "*   Versicolor\n",
        "*   Virginica\n",
        "\n",
        "The information about the flowers is as follows:\n",
        "\n",
        "\n",
        "*   sepal length\n",
        "*   petal length\n",
        "*   sepal width\n",
        "*   petal width\n",
        "\n",
        "\n",
        "\n",
        "\n",
        "\n",
        "\n",
        "\n",
        "\n"
      ]
    },
    {
      "cell_type": "code",
      "metadata": {
        "id": "9xvnyY-4KvMk"
      },
      "source": [
        "column_names=['sepal_length','sepal_width','petal_length','petal_width','species']\n",
        "species= ['setosa','versicolor','virginica']"
      ],
      "execution_count": 57,
      "outputs": []
    },
    {
      "cell_type": "code",
      "metadata": {
        "id": "JU_ONNf0Pg90"
      },
      "source": [
        "train_path= tf.keras.utils.get_file(\"iris_training.csv\",\"https://storage.googleapis.com/download.tensorflow.org/data/iris_training.csv\")\n",
        "test_path= tf.keras.utils.get_file(\"iris_test.csv\",\"https://storage.googleapis.com/download.tensorflow.org/data/iris_test.csv\")\n"
      ],
      "execution_count": 58,
      "outputs": []
    },
    {
      "cell_type": "code",
      "metadata": {
        "id": "U0EqVteSQm9q"
      },
      "source": [
        "train=pd.read_csv(train_path, names=column_names, header=0)\n",
        "test= pd.read_csv(test_path,names=column_names,header=0)"
      ],
      "execution_count": 60,
      "outputs": []
    },
    {
      "cell_type": "markdown",
      "metadata": {
        "id": "lPe5Ng1iRDts"
      },
      "source": [
        "Let's have a look at our data:"
      ]
    },
    {
      "cell_type": "code",
      "metadata": {
        "colab": {
          "base_uri": "https://localhost:8080/",
          "height": 204
        },
        "id": "yihXZbvtRAan",
        "outputId": "098dfd91-073e-4c50-ceba-d0a6bb48fc37"
      },
      "source": [
        "train.head()"
      ],
      "execution_count": 61,
      "outputs": [
        {
          "output_type": "execute_result",
          "data": {
            "text/html": [
              "<div>\n",
              "<style scoped>\n",
              "    .dataframe tbody tr th:only-of-type {\n",
              "        vertical-align: middle;\n",
              "    }\n",
              "\n",
              "    .dataframe tbody tr th {\n",
              "        vertical-align: top;\n",
              "    }\n",
              "\n",
              "    .dataframe thead th {\n",
              "        text-align: right;\n",
              "    }\n",
              "</style>\n",
              "<table border=\"1\" class=\"dataframe\">\n",
              "  <thead>\n",
              "    <tr style=\"text-align: right;\">\n",
              "      <th></th>\n",
              "      <th>sepal_length</th>\n",
              "      <th>sepal_width</th>\n",
              "      <th>petal_length</th>\n",
              "      <th>petal_width</th>\n",
              "      <th>species</th>\n",
              "    </tr>\n",
              "  </thead>\n",
              "  <tbody>\n",
              "    <tr>\n",
              "      <th>0</th>\n",
              "      <td>6.4</td>\n",
              "      <td>2.8</td>\n",
              "      <td>5.6</td>\n",
              "      <td>2.2</td>\n",
              "      <td>2</td>\n",
              "    </tr>\n",
              "    <tr>\n",
              "      <th>1</th>\n",
              "      <td>5.0</td>\n",
              "      <td>2.3</td>\n",
              "      <td>3.3</td>\n",
              "      <td>1.0</td>\n",
              "      <td>1</td>\n",
              "    </tr>\n",
              "    <tr>\n",
              "      <th>2</th>\n",
              "      <td>4.9</td>\n",
              "      <td>2.5</td>\n",
              "      <td>4.5</td>\n",
              "      <td>1.7</td>\n",
              "      <td>2</td>\n",
              "    </tr>\n",
              "    <tr>\n",
              "      <th>3</th>\n",
              "      <td>4.9</td>\n",
              "      <td>3.1</td>\n",
              "      <td>1.5</td>\n",
              "      <td>0.1</td>\n",
              "      <td>0</td>\n",
              "    </tr>\n",
              "    <tr>\n",
              "      <th>4</th>\n",
              "      <td>5.7</td>\n",
              "      <td>3.8</td>\n",
              "      <td>1.7</td>\n",
              "      <td>0.3</td>\n",
              "      <td>0</td>\n",
              "    </tr>\n",
              "  </tbody>\n",
              "</table>\n",
              "</div>"
            ],
            "text/plain": [
              "   sepal_length  sepal_width  petal_length  petal_width  species\n",
              "0           6.4          2.8           5.6          2.2        2\n",
              "1           5.0          2.3           3.3          1.0        1\n",
              "2           4.9          2.5           4.5          1.7        2\n",
              "3           4.9          3.1           1.5          0.1        0\n",
              "4           5.7          3.8           1.7          0.3        0"
            ]
          },
          "metadata": {},
          "execution_count": 61
        }
      ]
    },
    {
      "cell_type": "code",
      "metadata": {
        "colab": {
          "base_uri": "https://localhost:8080/",
          "height": 204
        },
        "id": "rqp915RUR_g6",
        "outputId": "07c8a56d-20bf-4dfe-af8a-49bf0f3140d6"
      },
      "source": [
        "train_y=train.pop('species') # drops the species column\n",
        "test_y=test.pop('species')\n",
        "train.head()"
      ],
      "execution_count": 62,
      "outputs": [
        {
          "output_type": "execute_result",
          "data": {
            "text/html": [
              "<div>\n",
              "<style scoped>\n",
              "    .dataframe tbody tr th:only-of-type {\n",
              "        vertical-align: middle;\n",
              "    }\n",
              "\n",
              "    .dataframe tbody tr th {\n",
              "        vertical-align: top;\n",
              "    }\n",
              "\n",
              "    .dataframe thead th {\n",
              "        text-align: right;\n",
              "    }\n",
              "</style>\n",
              "<table border=\"1\" class=\"dataframe\">\n",
              "  <thead>\n",
              "    <tr style=\"text-align: right;\">\n",
              "      <th></th>\n",
              "      <th>sepal_length</th>\n",
              "      <th>sepal_width</th>\n",
              "      <th>petal_length</th>\n",
              "      <th>petal_width</th>\n",
              "    </tr>\n",
              "  </thead>\n",
              "  <tbody>\n",
              "    <tr>\n",
              "      <th>0</th>\n",
              "      <td>6.4</td>\n",
              "      <td>2.8</td>\n",
              "      <td>5.6</td>\n",
              "      <td>2.2</td>\n",
              "    </tr>\n",
              "    <tr>\n",
              "      <th>1</th>\n",
              "      <td>5.0</td>\n",
              "      <td>2.3</td>\n",
              "      <td>3.3</td>\n",
              "      <td>1.0</td>\n",
              "    </tr>\n",
              "    <tr>\n",
              "      <th>2</th>\n",
              "      <td>4.9</td>\n",
              "      <td>2.5</td>\n",
              "      <td>4.5</td>\n",
              "      <td>1.7</td>\n",
              "    </tr>\n",
              "    <tr>\n",
              "      <th>3</th>\n",
              "      <td>4.9</td>\n",
              "      <td>3.1</td>\n",
              "      <td>1.5</td>\n",
              "      <td>0.1</td>\n",
              "    </tr>\n",
              "    <tr>\n",
              "      <th>4</th>\n",
              "      <td>5.7</td>\n",
              "      <td>3.8</td>\n",
              "      <td>1.7</td>\n",
              "      <td>0.3</td>\n",
              "    </tr>\n",
              "  </tbody>\n",
              "</table>\n",
              "</div>"
            ],
            "text/plain": [
              "   sepal_length  sepal_width  petal_length  petal_width\n",
              "0           6.4          2.8           5.6          2.2\n",
              "1           5.0          2.3           3.3          1.0\n",
              "2           4.9          2.5           4.5          1.7\n",
              "3           4.9          3.1           1.5          0.1\n",
              "4           5.7          3.8           1.7          0.3"
            ]
          },
          "metadata": {},
          "execution_count": 62
        }
      ]
    },
    {
      "cell_type": "code",
      "metadata": {
        "colab": {
          "base_uri": "https://localhost:8080/"
        },
        "id": "msWsol0eSWgn",
        "outputId": "9600034e-690b-483a-bf44-ec1abee84a7a"
      },
      "source": [
        "train.shape # has 120 rows and 4 features"
      ],
      "execution_count": 14,
      "outputs": [
        {
          "output_type": "execute_result",
          "data": {
            "text/plain": [
              "(120, 4)"
            ]
          },
          "metadata": {},
          "execution_count": 14
        }
      ]
    },
    {
      "cell_type": "code",
      "metadata": {
        "id": "vLW6KYbmSbtu"
      },
      "source": [
        "#we define our input function\n",
        "\n",
        "def input_fn(features, labels, training=True, batch_size=256):\n",
        " '''\n",
        " this function converts the inputs(features and labels)\n",
        " into a dataset and shuffles it 1000 times\n",
        "\n",
        " '''\n",
        "  # Connverts the inputs to a data set\n",
        "\n",
        " dataset= tf.data.Dataset.from_tensor_slices((dict(features),labels))\n",
        "\n",
        "  # Shuffle and repeat if you are in a training mode\n",
        " if training:\n",
        "      dataset.shuffle(1000).repeat()\n",
        " return dataset.batch(batch_size)\n",
        "\n"
      ],
      "execution_count": 63,
      "outputs": []
    },
    {
      "cell_type": "markdown",
      "metadata": {
        "id": "Kl4OEACpVEDM"
      },
      "source": [
        "# Feature Columns"
      ]
    },
    {
      "cell_type": "code",
      "metadata": {
        "colab": {
          "base_uri": "https://localhost:8080/"
        },
        "id": "km_NAK96VAPM",
        "outputId": "b810d1a7-272d-4364-fb2e-8f0851b75a4a"
      },
      "source": [
        "# Feature columns describe how to use the input function\n",
        "\n",
        "my_feature_columns= []\n",
        "for key in train.keys():\n",
        "  my_feature_columns.append(tf.feature_column.numeric_column(key=key))\n",
        "print(my_feature_columns)"
      ],
      "execution_count": 64,
      "outputs": [
        {
          "output_type": "stream",
          "text": [
            "[NumericColumn(key='sepal_length', shape=(1,), default_value=None, dtype=tf.float32, normalizer_fn=None), NumericColumn(key='sepal_width', shape=(1,), default_value=None, dtype=tf.float32, normalizer_fn=None), NumericColumn(key='petal_length', shape=(1,), default_value=None, dtype=tf.float32, normalizer_fn=None), NumericColumn(key='petal_width', shape=(1,), default_value=None, dtype=tf.float32, normalizer_fn=None)]\n"
          ],
          "name": "stdout"
        }
      ]
    },
    {
      "cell_type": "code",
      "metadata": {
        "colab": {
          "base_uri": "https://localhost:8080/"
        },
        "id": "rWYR06W9WETV",
        "outputId": "cc0972cc-019b-46c6-9dad-5177907128a3"
      },
      "source": [
        "train.keys()"
      ],
      "execution_count": 65,
      "outputs": [
        {
          "output_type": "execute_result",
          "data": {
            "text/plain": [
              "Index(['sepal_length', 'sepal_width', 'petal_length', 'petal_width'], dtype='object')"
            ]
          },
          "metadata": {},
          "execution_count": 65
        }
      ]
    },
    {
      "cell_type": "code",
      "metadata": {
        "id": "A5jc4iheWKqq"
      },
      "source": [
        "help(tf.feature_column.numeric_column)"
      ],
      "execution_count": null,
      "outputs": []
    },
    {
      "cell_type": "markdown",
      "metadata": {
        "id": "e4sHvX5MXSKO"
      },
      "source": [
        "# Building the model (DNN)\n",
        "\n",
        "For classification, different models can be used including:\n",
        "\n",
        "\n",
        "*   DNNClassifier (Deep Neural Network)\n",
        "*   LinearClassifier\n",
        "*   \n",
        "\n",
        "We can go with either, but DNN seems to be the best choice\n",
        "\n",
        "\n"
      ]
    },
    {
      "cell_type": "code",
      "metadata": {
        "colab": {
          "base_uri": "https://localhost:8080/"
        },
        "id": "B35eRhTBXVBZ",
        "outputId": "cfef1c8c-c104-4dd3-f381-eee2feab002e"
      },
      "source": [
        "# Build a DNN with 2 hidden layers with 30 nodes and 10 hidden nodes each\n",
        "classifier= tf.estimator.DNNClassifier(\n",
        "    feature_columns= my_feature_columns,\n",
        "   \n",
        "    # Two hidden layers with 30 and 10 nodes each\n",
        "    hidden_units = [30,10],\n",
        "    #the modek must choose between 3 classes\n",
        "    n_classes= 3\n",
        ")"
      ],
      "execution_count": 67,
      "outputs": [
        {
          "output_type": "stream",
          "text": [
            "INFO:tensorflow:Using default config.\n",
            "WARNING:tensorflow:Using temporary folder as model directory: /tmp/tmpxgwnjwxv\n",
            "INFO:tensorflow:Using config: {'_model_dir': '/tmp/tmpxgwnjwxv', '_tf_random_seed': None, '_save_summary_steps': 100, '_save_checkpoints_steps': None, '_save_checkpoints_secs': 600, '_session_config': allow_soft_placement: true\n",
            "graph_options {\n",
            "  rewrite_options {\n",
            "    meta_optimizer_iterations: ONE\n",
            "  }\n",
            "}\n",
            ", '_keep_checkpoint_max': 5, '_keep_checkpoint_every_n_hours': 10000, '_log_step_count_steps': 100, '_train_distribute': None, '_device_fn': None, '_protocol': None, '_eval_distribute': None, '_experimental_distribute': None, '_experimental_max_worker_delay_secs': None, '_session_creation_timeout_secs': 7200, '_checkpoint_save_graph_def': True, '_service': None, '_cluster_spec': ClusterSpec({}), '_task_type': 'worker', '_task_id': 0, '_global_id_in_cluster': 0, '_master': '', '_evaluation_master': '', '_is_chief': True, '_num_ps_replicas': 0, '_num_worker_replicas': 1}\n"
          ],
          "name": "stdout"
        }
      ]
    },
    {
      "cell_type": "markdown",
      "metadata": {
        "id": "yu6r-DayazOe"
      },
      "source": [
        "# Training"
      ]
    },
    {
      "cell_type": "code",
      "metadata": {
        "colab": {
          "base_uri": "https://localhost:8080/"
        },
        "id": "Z4in7_TscOi8",
        "outputId": "14ed2b15-bb99-471c-9108-d44bfb0120d9"
      },
      "source": [
        "# how to use the lambda function\n",
        "\n",
        "x=lambda: print(' OMG')\n",
        "x()"
      ],
      "execution_count": 68,
      "outputs": [
        {
          "output_type": "stream",
          "text": [
            " OMG\n"
          ],
          "name": "stdout"
        }
      ]
    },
    {
      "cell_type": "code",
      "metadata": {
        "colab": {
          "base_uri": "https://localhost:8080/"
        },
        "id": "w_3AF6hSa1lq",
        "outputId": "c5b99a62-7c37-4d29-dafc-a037afa48a8f"
      },
      "source": [
        "classifier.train(\n",
        "    \n",
        "    # x=lambda: print('hi')- xis equal to lambda which prints hi when called\n",
        "    input_fn=lambda:input_fn(train,train_y,training=True), \n",
        "    \n",
        "    #same as an epoch\n",
        "    steps=5000)\n",
        "  "
      ],
      "execution_count": 69,
      "outputs": [
        {
          "output_type": "stream",
          "text": [
            "INFO:tensorflow:Calling model_fn.\n",
            "INFO:tensorflow:Done calling model_fn.\n",
            "INFO:tensorflow:Create CheckpointSaverHook.\n",
            "INFO:tensorflow:Graph was finalized.\n",
            "INFO:tensorflow:Running local_init_op.\n",
            "INFO:tensorflow:Done running local_init_op.\n",
            "INFO:tensorflow:Calling checkpoint listeners before saving checkpoint 0...\n",
            "INFO:tensorflow:Saving checkpoints for 0 into /tmp/tmpxgwnjwxv/model.ckpt.\n",
            "INFO:tensorflow:Calling checkpoint listeners after saving checkpoint 0...\n",
            "INFO:tensorflow:loss = 1.1361772, step = 0\n",
            "INFO:tensorflow:Calling checkpoint listeners before saving checkpoint 1...\n",
            "INFO:tensorflow:Saving checkpoints for 1 into /tmp/tmpxgwnjwxv/model.ckpt.\n",
            "INFO:tensorflow:Calling checkpoint listeners after saving checkpoint 1...\n",
            "INFO:tensorflow:Loss for final step: 1.1361772.\n"
          ],
          "name": "stdout"
        },
        {
          "output_type": "execute_result",
          "data": {
            "text/plain": [
              "<tensorflow_estimator.python.estimator.canned.dnn.DNNClassifierV2 at 0x7fc405fbf550>"
            ]
          },
          "metadata": {},
          "execution_count": 69
        }
      ]
    },
    {
      "cell_type": "markdown",
      "metadata": {
        "id": "ywhaSVLBcwZN"
      },
      "source": [
        "# Evaluation"
      ]
    },
    {
      "cell_type": "code",
      "metadata": {
        "colab": {
          "base_uri": "https://localhost:8080/"
        },
        "id": "KEC7PyxDc0bR",
        "outputId": "4577a008-f3f7-4cf8-b120-a068d59938bb"
      },
      "source": [
        "eval_result= classifier.evaluate(input_fn=lambda: input_fn(test, test_y, training=False))\n",
        "print('\\nTest set accuracy: {accuracy:0.3f}\\n'.format(**eval_result))\n"
      ],
      "execution_count": 70,
      "outputs": [
        {
          "output_type": "stream",
          "text": [
            "INFO:tensorflow:Calling model_fn.\n",
            "INFO:tensorflow:Done calling model_fn.\n",
            "INFO:tensorflow:Starting evaluation at 2021-08-21T07:25:26\n",
            "INFO:tensorflow:Graph was finalized.\n",
            "INFO:tensorflow:Restoring parameters from /tmp/tmpxgwnjwxv/model.ckpt-1\n",
            "INFO:tensorflow:Running local_init_op.\n",
            "INFO:tensorflow:Done running local_init_op.\n",
            "INFO:tensorflow:Inference Time : 0.19165s\n",
            "INFO:tensorflow:Finished evaluation at 2021-08-21-07:25:26\n",
            "INFO:tensorflow:Saving dict for global step 1: accuracy = 0.46666667, average_loss = 0.9574517, global_step = 1, loss = 0.9574517\n",
            "INFO:tensorflow:Saving 'checkpoint_path' summary for global step 1: /tmp/tmpxgwnjwxv/model.ckpt-1\n",
            "\n",
            "Test set accuracy: 0.467\n",
            "\n"
          ],
          "name": "stdout"
        }
      ]
    },
    {
      "cell_type": "markdown",
      "metadata": {
        "id": "wBok9mX5et7y"
      },
      "source": [
        "# Prediction"
      ]
    },
    {
      "cell_type": "code",
      "metadata": {
        "colab": {
          "base_uri": "https://localhost:8080/"
        },
        "id": "jrG1V-acew5J",
        "outputId": "d24a593b-7365-4f0c-bd3d-d044fd86fcea"
      },
      "source": [
        "def input_fn2(features, batch_size=256):\n",
        "   \n",
        "   #convert the inputs to a dataset without labes.\n",
        "\n",
        "   return tf.data.Dataset.from_tensor_slices(dict(features)).batch(batch_size)\n",
        "\n",
        "features=['sepal_length','sepal_width','petal_length','petal_width']\n",
        "predict = {}\n",
        "\n",
        "print('Please type numeric values as prompted') # must be a float\n",
        "for feature in features:\n",
        "  valid=True\n",
        "  while valid:\n",
        "    val=input(feature + ':')\n",
        "    if not val.isdigit(): \n",
        "      valid=False\n",
        "\n",
        "  predict[feature] = [float(val)]\n",
        "predictions= classifier.predict(input_fn=lambda: input_fn2(predict))\n",
        "for pred_dict in predictions:\n",
        "  print(pred_dict) # notice the 3 probabilities in the output( the highest is picked as the most probable)\n",
        "  class_id = pred_dict['class_ids'][0]\n",
        "  probability = pred_dict['probabilities'][class_id]\n",
        "  print('Predictions is \"{}\" with probability ({:.1f}%)'. format(species[class_id], 100*probability))\n"
      ],
      "execution_count": 71,
      "outputs": [
        {
          "output_type": "stream",
          "text": [
            "Please type numeric values as prompted\n",
            "sepal_length:1.4\n",
            "sepal_width:1.6\n",
            "petal_length:2.9\n",
            "petal_width:1.9\n",
            "INFO:tensorflow:Calling model_fn.\n",
            "INFO:tensorflow:Done calling model_fn.\n",
            "INFO:tensorflow:Graph was finalized.\n",
            "INFO:tensorflow:Restoring parameters from /tmp/tmpxgwnjwxv/model.ckpt-1\n",
            "INFO:tensorflow:Running local_init_op.\n",
            "INFO:tensorflow:Done running local_init_op.\n",
            "{'logits': array([-0.31009698,  0.4457056 ,  0.11519422], dtype=float32), 'probabilities': array([0.21462195, 0.45699877, 0.3283793 ], dtype=float32), 'class_ids': array([1]), 'classes': array([b'1'], dtype=object), 'all_class_ids': array([0, 1, 2], dtype=int32), 'all_classes': array([b'0', b'1', b'2'], dtype=object)}\n",
            "Predictions is \"versicolor\" with probability (45.7%)\n"
          ],
          "name": "stdout"
        }
      ]
    }
  ]
}