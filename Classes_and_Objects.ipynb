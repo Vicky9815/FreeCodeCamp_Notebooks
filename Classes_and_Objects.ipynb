{
  "nbformat": 4,
  "nbformat_minor": 0,
  "metadata": {
    "colab": {
      "name": "Classes_and_Objects.ipynb",
      "provenance": [],
      "authorship_tag": "ABX9TyPUszlKWQBoLLGWga4TCRDD",
      "include_colab_link": true
    },
    "kernelspec": {
      "name": "python3",
      "display_name": "Python 3"
    },
    "language_info": {
      "name": "python"
    }
  },
  "cells": [
    {
      "cell_type": "markdown",
      "metadata": {
        "id": "view-in-github",
        "colab_type": "text"
      },
      "source": [
        "<a href=\"https://colab.research.google.com/github/VictoriaKwamboka/FreeCodeCamp_Notebooks/blob/main/Classes_and_Objects.ipynb\" target=\"_parent\"><img src=\"https://colab.research.google.com/assets/colab-badge.svg\" alt=\"Open In Colab\"/></a>"
      ]
    },
    {
      "cell_type": "code",
      "metadata": {
        "colab": {
          "base_uri": "https://localhost:8080/"
        },
        "id": "U5Y9sU2jEWuc",
        "outputId": "a8880823-c17d-42f5-849a-0135073a7555"
      },
      "source": [
        "class Person:\n",
        "  def __init__(self, name, age):\n",
        "    self.name=name\n",
        "    self.age=age\n",
        "  def greeting(self):\n",
        "    print('Hello, my name is {} and am {} years old'.format(self.name,self.age))\n",
        "Person1=Person('Victoria',23)\n",
        "\n",
        "Person1.greeting()"
      ],
      "execution_count": 9,
      "outputs": [
        {
          "output_type": "stream",
          "name": "stdout",
          "text": [
            "Hello, my name is Victoria and am 23 years old\n"
          ]
        }
      ]
    }
  ]
}